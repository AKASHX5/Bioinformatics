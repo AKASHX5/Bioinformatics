{
 "cells": [
  {
   "cell_type": "code",
   "execution_count": 1,
   "metadata": {
    "collapsed": false
   },
   "outputs": [
    {
     "name": "stdout",
     "output_type": "stream",
     "text": [
      "This is an example search on the string \" This is a simple example \".\n",
      "ple  : 13\n",
      "example : 17\n",
      "simple : 10\n"
     ]
    }
   ],
   "source": [
    "# Generate the Bad Character Skip List\n",
    "def generateBadCharShift(term):\n",
    "    skipList = {}\n",
    "    for i in range(0, len(term)-1):\n",
    "        skipList[term[i]] = len(term)-i-1\n",
    "    return skipList\n",
    "\n",
    "# Generate the Good Suffix Skip List\n",
    "def findSuffixPosition(badchar, suffix, full_term):\n",
    "    for offset in range(1, len(full_term)+1)[::-1]:\n",
    "        flag = True\n",
    "        for suffix_index in range(0, len(suffix)):\n",
    "            term_index = offset-len(suffix)-1+suffix_index\n",
    "            if term_index < 0 or suffix[suffix_index] == full_term[term_index]:\n",
    "                pass\n",
    "            else:\n",
    "                flag = False\n",
    "        term_index = offset-len(suffix)-1\n",
    "        if flag and (term_index <= 0 or full_term[term_index-1] != badchar):\n",
    "            return len(full_term)-offset+1\n",
    "\n",
    "def generateSuffixShift(key):\n",
    "    skipList = {}\n",
    "    buffer = \"\"\n",
    "    for i in range(0, len(key)):\n",
    "        skipList[len(buffer)] = findSuffixPosition(key[len(key)-1-i], buffer, key)\n",
    "        buffer = key[len(key)-1-i] + buffer\n",
    "    return skipList\n",
    "    \n",
    "# Actual Search Algorithm\n",
    "def BMSearch(haystack, needle):\n",
    "    goodSuffix = generateSuffixShift(needle)\n",
    "    badChar = generateBadCharShift(needle)\n",
    "    i = 0\n",
    "    while i < len(haystack)-len(needle)+1:\n",
    "        j = len(needle)\n",
    "        while j > 0 and needle[j-1] == haystack[i+j-1]:\n",
    "            j -= 1\n",
    "        if j > 0:\n",
    "            badCharShift = badChar.get(haystack[i+j-1], len(needle))\n",
    "            goodSuffixShift = goodSuffix[len(needle)-j]\n",
    "            if badCharShift > goodSuffixShift:\n",
    "                i += badCharShift\n",
    "            else:\n",
    "                i += goodSuffixShift\n",
    "        else:\n",
    "            return i\n",
    "    return -1\n",
    "\n",
    "if __name__ == \"__main__\":\n",
    "    block = \"This is a simple example\"\n",
    "    print \"This is an example search on the string \\\"\", block, \"\\\".\"\n",
    "    print \"ple  :\", BMSearch(block, \"ple \")\n",
    "    print \"example :\", BMSearch(block, \"example\")\n",
    "    print \"simple :\", BMSearch(block, \"simple\")\n"
   ]
  },
  {
   "cell_type": "code",
   "execution_count": null,
   "metadata": {
    "collapsed": true
   },
   "outputs": [],
   "source": []
  }
 ],
 "metadata": {
  "anaconda-cloud": {},
  "kernelspec": {
   "display_name": "Python 2",
   "language": "python",
   "name": "python2"
  },
  "language_info": {
   "codemirror_mode": {
    "name": "ipython",
    "version": 2
   },
   "file_extension": ".py",
   "mimetype": "text/x-python",
   "name": "python",
   "nbconvert_exporter": "python",
   "pygments_lexer": "ipython2",
   "version": "2.7.14"
  }
 },
 "nbformat": 4,
 "nbformat_minor": 2
}
