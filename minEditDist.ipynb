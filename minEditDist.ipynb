{
 "cells": [
  {
   "cell_type": "code",
   "execution_count": 13,
   "metadata": {
    "collapsed": false
   },
   "outputs": [
    {
     "data": {
      "text/plain": [
       "7"
      ]
     },
     "execution_count": 13,
     "metadata": {},
     "output_type": "execute_result"
    }
   ],
   "source": [
    "def  minEditDistR(target, source):\n",
    "    \n",
    "   \n",
    "\n",
    "   i = len(target)\n",
    "   j = len(source)\n",
    "\n",
    "   if i == 0:\n",
    "    \n",
    "        return j\n",
    "   elif j == 0:\n",
    "        return i\n",
    "\n",
    "   return(min(minEditDistR(target[:i-1],source)+1,\n",
    "              minEditDistR(target, source[:j-1])+1,\n",
    "              minEditDistR(target[:i-1], source[:j-1])+substCost(source[j-1], target[i-1])))\n",
    "\n",
    "\n",
    "\n",
    "def substCost(x,y):\n",
    "    if x == y: return 0\n",
    "    else: return 2\n",
    "    \n",
    "\n",
    "    \n",
    "\n",
    "ref1='intution'\n",
    "ref2='execution'\n",
    "minEditDistR(ref1,ref2)\n"
   ]
  },
  {
   "cell_type": "code",
   "execution_count": null,
   "metadata": {
    "collapsed": true
   },
   "outputs": [],
   "source": []
  }
 ],
 "metadata": {
  "kernelspec": {
   "display_name": "Python [default]",
   "language": "python",
   "name": "python2"
  },
  "language_info": {
   "codemirror_mode": {
    "name": "ipython",
    "version": 2
   },
   "file_extension": ".py",
   "mimetype": "text/x-python",
   "name": "python",
   "nbconvert_exporter": "python",
   "pygments_lexer": "ipython2",
   "version": "2.7.12"
  }
 },
 "nbformat": 4,
 "nbformat_minor": 1
}
