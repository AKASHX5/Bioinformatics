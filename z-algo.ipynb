{
 "cells": [
  {
   "cell_type": "code",
   "execution_count": null,
   "metadata": {
    "collapsed": true
   },
   "outputs": [],
   "source": [
    "def z_algo(s):\n",
    "    \n",
    "    Z = [0] * len(s)\n",
    "    Z[0] = len(s)\n",
    " \n",
    "    rt = 0\n",
    "    lt = 0\n",
    " \n",
    "    for k in range(1, len(s)):\n",
    "        if k > rt:\n",
    "            # If k is outside the current Z-box, do naive computation.\n",
    "            n = 0\n",
    "            while n + k < len(s) and s[n] == s[n+k]:\n",
    "                n += 1\n",
    "            Z[k] = n\n",
    "            if n > 0:\n",
    "                lt = k\n",
    "                rt = k+n-1\n",
    "        else:\n",
    "            # If k is inside the current Z-box, consider two cases.\n",
    " \n",
    "            p = k - lt  # Pair index.\n",
    "            right_part_len = rt - k + 1\n",
    " \n",
    "            if Z[p] < right_part_len:\n",
    "            Z[k] = Z[p]\n",
    "        else:\n",
    "            i = rt + 1\n",
    "            while i < len(s) and s[i] == s[i - k]:\n",
    "                i += 1\n",
    "            Z[k] = i - k\n",
    " \n",
    "            lt = k\n",
    "            rt = i - 1\n",
    "return Z"
   ]
  }
 ],
 "metadata": {
  "anaconda-cloud": {},
  "kernelspec": {
   "display_name": "Python [conda root]",
   "language": "python",
   "name": "conda-root-py"
  },
  "language_info": {
   "codemirror_mode": {
    "name": "ipython",
    "version": 2
   },
   "file_extension": ".py",
   "mimetype": "text/x-python",
   "name": "python",
   "nbconvert_exporter": "python",
   "pygments_lexer": "ipython2",
   "version": "2.7.12"
  }
 },
 "nbformat": 4,
 "nbformat_minor": 1
}
